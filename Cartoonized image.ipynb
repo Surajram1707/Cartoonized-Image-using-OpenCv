{
 "cells": [
  {
   "cell_type": "code",
   "execution_count": 1,
   "metadata": {},
   "outputs": [],
   "source": [
    "import cv2"
   ]
  },
  {
   "cell_type": "code",
   "execution_count": 4,
   "metadata": {},
   "outputs": [],
   "source": [
    "img_rgb = cv2.imread('nature.jpg')\n",
    "numBilateralFilters = 30\n",
    "for i in range(numBilateralFilters):\n",
    "    img_rgb = cv2.bilateralFilter(img_rgb,9,9,7)\n",
    "img_gray = cv2.cvtColor(img_rgb,cv2.COLOR_RGB2GRAY)\n",
    "img_blur = cv2.medianBlur(img_gray,3)\n",
    "img_edge = cv2.adaptiveThreshold(img_blur,255,cv2.ADAPTIVE_THRESH_MEAN_C,cv2.THRESH_BINARY,9,2)\n",
    "img_edge = cv2.cvtColor(img_edge,cv2.COLOR_GRAY2RGB)\n",
    "cv2.imshow(\"RGB Image\",img_rgb)\n",
    "cv2.imshow(\"Edge Image\",img_edge)\n",
    "res = cv2.bitwise_and(img_rgb,img_edge)\n",
    "cv2.imshow(\"Cartoon Version\",res)\n",
    "cv2.waitKey(0)\n",
    "cv2.destroyAllWindows()"
   ]
  },
  {
   "cell_type": "code",
   "execution_count": null,
   "metadata": {},
   "outputs": [],
   "source": []
  }
 ],
 "metadata": {
  "kernelspec": {
   "display_name": "Python 3",
   "language": "python",
   "name": "python3"
  },
  "language_info": {
   "codemirror_mode": {
    "name": "ipython",
    "version": 3
   },
   "file_extension": ".py",
   "mimetype": "text/x-python",
   "name": "python",
   "nbconvert_exporter": "python",
   "pygments_lexer": "ipython3",
   "version": "3.7.3"
  }
 },
 "nbformat": 4,
 "nbformat_minor": 2
}
